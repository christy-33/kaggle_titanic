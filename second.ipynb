{
 "cells": [
  {
   "cell_type": "code",
   "execution_count": 1,
   "id": "d5673304",
   "metadata": {
    "_cell_guid": "b1076dfc-b9ad-4769-8c92-a6c4dae69d19",
    "_uuid": "8f2839f25d086af736a60e9eeb907d3b93b6e0e5",
    "execution": {
     "iopub.execute_input": "2023-12-23T08:48:30.899712Z",
     "iopub.status.busy": "2023-12-23T08:48:30.898492Z",
     "iopub.status.idle": "2023-12-23T08:48:31.592885Z",
     "shell.execute_reply": "2023-12-23T08:48:31.591638Z"
    },
    "papermill": {
     "duration": 0.704556,
     "end_time": "2023-12-23T08:48:31.595636",
     "exception": false,
     "start_time": "2023-12-23T08:48:30.891080",
     "status": "completed"
    },
    "tags": []
   },
   "outputs": [
    {
     "name": "stdout",
     "output_type": "stream",
     "text": [
      "/kaggle/input/titanic/train.csv\n",
      "/kaggle/input/titanic/test.csv\n",
      "/kaggle/input/titanic/gender_submission.csv\n"
     ]
    }
   ],
   "source": [
    "# This Python 3 environment comes with many helpful analytics libraries installed\n",
    "# It is defined by the kaggle/python Docker image: https://github.com/kaggle/docker-python\n",
    "# For example, here's several helpful packages to load\n",
    "\n",
    "import numpy as np # linear algebra\n",
    "import pandas as pd # data processing, CSV file I/O (e.g. pd.read_csv)\n",
    "\n",
    "# Input data files are available in the read-only \"../input/\" directory\n",
    "# For example, running this (by clicking run or pressing Shift+Enter) will list all files under the input directory\n",
    "\n",
    "import os\n",
    "for dirname, _, filenames in os.walk('/kaggle/input'):\n",
    "    for filename in filenames:\n",
    "        print(os.path.join(dirname, filename))\n",
    "\n",
    "# You can write up to 20GB to the current directory (/kaggle/working/) that gets preserved as output when you create a version using \"Save & Run All\" \n",
    "# You can also write temporary files to /kaggle/temp/, but they won't be saved outside of the current session"
   ]
  },
  {
   "cell_type": "code",
   "execution_count": 2,
   "id": "e66b7231",
   "metadata": {
    "execution": {
     "iopub.execute_input": "2023-12-23T08:48:31.608544Z",
     "iopub.status.busy": "2023-12-23T08:48:31.608050Z",
     "iopub.status.idle": "2023-12-23T08:48:31.641800Z",
     "shell.execute_reply": "2023-12-23T08:48:31.640596Z"
    },
    "papermill": {
     "duration": 0.042756,
     "end_time": "2023-12-23T08:48:31.644168",
     "exception": false,
     "start_time": "2023-12-23T08:48:31.601412",
     "status": "completed"
    },
    "tags": []
   },
   "outputs": [],
   "source": [
    "train=pd.read_csv(\"/kaggle/input/titanic/train.csv\")\n",
    "test=pd.read_csv(\"/kaggle/input/titanic/test.csv\")"
   ]
  },
  {
   "cell_type": "code",
   "execution_count": 3,
   "id": "de7e309e",
   "metadata": {
    "execution": {
     "iopub.execute_input": "2023-12-23T08:48:31.656934Z",
     "iopub.status.busy": "2023-12-23T08:48:31.656556Z",
     "iopub.status.idle": "2023-12-23T08:48:31.685633Z",
     "shell.execute_reply": "2023-12-23T08:48:31.684643Z"
    },
    "papermill": {
     "duration": 0.037567,
     "end_time": "2023-12-23T08:48:31.687656",
     "exception": false,
     "start_time": "2023-12-23T08:48:31.650089",
     "status": "completed"
    },
    "tags": []
   },
   "outputs": [
    {
     "data": {
      "text/html": [
       "<div>\n",
       "<style scoped>\n",
       "    .dataframe tbody tr th:only-of-type {\n",
       "        vertical-align: middle;\n",
       "    }\n",
       "\n",
       "    .dataframe tbody tr th {\n",
       "        vertical-align: top;\n",
       "    }\n",
       "\n",
       "    .dataframe thead th {\n",
       "        text-align: right;\n",
       "    }\n",
       "</style>\n",
       "<table border=\"1\" class=\"dataframe\">\n",
       "  <thead>\n",
       "    <tr style=\"text-align: right;\">\n",
       "      <th></th>\n",
       "      <th>PassengerId</th>\n",
       "      <th>Survived</th>\n",
       "      <th>Pclass</th>\n",
       "      <th>Name</th>\n",
       "      <th>Sex</th>\n",
       "      <th>Age</th>\n",
       "      <th>SibSp</th>\n",
       "      <th>Parch</th>\n",
       "      <th>Ticket</th>\n",
       "      <th>Fare</th>\n",
       "      <th>Cabin</th>\n",
       "      <th>Embarked</th>\n",
       "    </tr>\n",
       "  </thead>\n",
       "  <tbody>\n",
       "    <tr>\n",
       "      <th>0</th>\n",
       "      <td>1</td>\n",
       "      <td>0</td>\n",
       "      <td>3</td>\n",
       "      <td>Braund, Mr. Owen Harris</td>\n",
       "      <td>male</td>\n",
       "      <td>22.0</td>\n",
       "      <td>1</td>\n",
       "      <td>0</td>\n",
       "      <td>A/5 21171</td>\n",
       "      <td>7.2500</td>\n",
       "      <td>NaN</td>\n",
       "      <td>S</td>\n",
       "    </tr>\n",
       "    <tr>\n",
       "      <th>1</th>\n",
       "      <td>2</td>\n",
       "      <td>1</td>\n",
       "      <td>1</td>\n",
       "      <td>Cumings, Mrs. John Bradley (Florence Briggs Th...</td>\n",
       "      <td>female</td>\n",
       "      <td>38.0</td>\n",
       "      <td>1</td>\n",
       "      <td>0</td>\n",
       "      <td>PC 17599</td>\n",
       "      <td>71.2833</td>\n",
       "      <td>C85</td>\n",
       "      <td>C</td>\n",
       "    </tr>\n",
       "    <tr>\n",
       "      <th>2</th>\n",
       "      <td>3</td>\n",
       "      <td>1</td>\n",
       "      <td>3</td>\n",
       "      <td>Heikkinen, Miss. Laina</td>\n",
       "      <td>female</td>\n",
       "      <td>26.0</td>\n",
       "      <td>0</td>\n",
       "      <td>0</td>\n",
       "      <td>STON/O2. 3101282</td>\n",
       "      <td>7.9250</td>\n",
       "      <td>NaN</td>\n",
       "      <td>S</td>\n",
       "    </tr>\n",
       "    <tr>\n",
       "      <th>3</th>\n",
       "      <td>4</td>\n",
       "      <td>1</td>\n",
       "      <td>1</td>\n",
       "      <td>Futrelle, Mrs. Jacques Heath (Lily May Peel)</td>\n",
       "      <td>female</td>\n",
       "      <td>35.0</td>\n",
       "      <td>1</td>\n",
       "      <td>0</td>\n",
       "      <td>113803</td>\n",
       "      <td>53.1000</td>\n",
       "      <td>C123</td>\n",
       "      <td>S</td>\n",
       "    </tr>\n",
       "    <tr>\n",
       "      <th>4</th>\n",
       "      <td>5</td>\n",
       "      <td>0</td>\n",
       "      <td>3</td>\n",
       "      <td>Allen, Mr. William Henry</td>\n",
       "      <td>male</td>\n",
       "      <td>35.0</td>\n",
       "      <td>0</td>\n",
       "      <td>0</td>\n",
       "      <td>373450</td>\n",
       "      <td>8.0500</td>\n",
       "      <td>NaN</td>\n",
       "      <td>S</td>\n",
       "    </tr>\n",
       "  </tbody>\n",
       "</table>\n",
       "</div>"
      ],
      "text/plain": [
       "   PassengerId  Survived  Pclass  \\\n",
       "0            1         0       3   \n",
       "1            2         1       1   \n",
       "2            3         1       3   \n",
       "3            4         1       1   \n",
       "4            5         0       3   \n",
       "\n",
       "                                                Name     Sex   Age  SibSp  \\\n",
       "0                            Braund, Mr. Owen Harris    male  22.0      1   \n",
       "1  Cumings, Mrs. John Bradley (Florence Briggs Th...  female  38.0      1   \n",
       "2                             Heikkinen, Miss. Laina  female  26.0      0   \n",
       "3       Futrelle, Mrs. Jacques Heath (Lily May Peel)  female  35.0      1   \n",
       "4                           Allen, Mr. William Henry    male  35.0      0   \n",
       "\n",
       "   Parch            Ticket     Fare Cabin Embarked  \n",
       "0      0         A/5 21171   7.2500   NaN        S  \n",
       "1      0          PC 17599  71.2833   C85        C  \n",
       "2      0  STON/O2. 3101282   7.9250   NaN        S  \n",
       "3      0            113803  53.1000  C123        S  \n",
       "4      0            373450   8.0500   NaN        S  "
      ]
     },
     "execution_count": 3,
     "metadata": {},
     "output_type": "execute_result"
    }
   ],
   "source": [
    "train.head()"
   ]
  },
  {
   "cell_type": "code",
   "execution_count": 4,
   "id": "51cd3701",
   "metadata": {
    "execution": {
     "iopub.execute_input": "2023-12-23T08:48:31.700334Z",
     "iopub.status.busy": "2023-12-23T08:48:31.700011Z",
     "iopub.status.idle": "2023-12-23T08:48:31.718308Z",
     "shell.execute_reply": "2023-12-23T08:48:31.717381Z"
    },
    "papermill": {
     "duration": 0.026485,
     "end_time": "2023-12-23T08:48:31.720029",
     "exception": false,
     "start_time": "2023-12-23T08:48:31.693544",
     "status": "completed"
    },
    "tags": []
   },
   "outputs": [
    {
     "data": {
      "text/html": [
       "<div>\n",
       "<style scoped>\n",
       "    .dataframe tbody tr th:only-of-type {\n",
       "        vertical-align: middle;\n",
       "    }\n",
       "\n",
       "    .dataframe tbody tr th {\n",
       "        vertical-align: top;\n",
       "    }\n",
       "\n",
       "    .dataframe thead th {\n",
       "        text-align: right;\n",
       "    }\n",
       "</style>\n",
       "<table border=\"1\" class=\"dataframe\">\n",
       "  <thead>\n",
       "    <tr style=\"text-align: right;\">\n",
       "      <th></th>\n",
       "      <th>PassengerId</th>\n",
       "      <th>Survived</th>\n",
       "      <th>Pclass</th>\n",
       "      <th>Name</th>\n",
       "      <th>Sex</th>\n",
       "      <th>Age</th>\n",
       "      <th>SibSp</th>\n",
       "      <th>Parch</th>\n",
       "      <th>Ticket</th>\n",
       "      <th>Fare</th>\n",
       "      <th>Cabin</th>\n",
       "      <th>Embarked</th>\n",
       "    </tr>\n",
       "  </thead>\n",
       "  <tbody>\n",
       "    <tr>\n",
       "      <th>5</th>\n",
       "      <td>6</td>\n",
       "      <td>0</td>\n",
       "      <td>3</td>\n",
       "      <td>Moran, Mr. James</td>\n",
       "      <td>male</td>\n",
       "      <td>NaN</td>\n",
       "      <td>0</td>\n",
       "      <td>0</td>\n",
       "      <td>330877</td>\n",
       "      <td>8.4583</td>\n",
       "      <td>NaN</td>\n",
       "      <td>Q</td>\n",
       "    </tr>\n",
       "    <tr>\n",
       "      <th>17</th>\n",
       "      <td>18</td>\n",
       "      <td>1</td>\n",
       "      <td>2</td>\n",
       "      <td>Williams, Mr. Charles Eugene</td>\n",
       "      <td>male</td>\n",
       "      <td>NaN</td>\n",
       "      <td>0</td>\n",
       "      <td>0</td>\n",
       "      <td>244373</td>\n",
       "      <td>13.0000</td>\n",
       "      <td>NaN</td>\n",
       "      <td>S</td>\n",
       "    </tr>\n",
       "    <tr>\n",
       "      <th>19</th>\n",
       "      <td>20</td>\n",
       "      <td>1</td>\n",
       "      <td>3</td>\n",
       "      <td>Masselmani, Mrs. Fatima</td>\n",
       "      <td>female</td>\n",
       "      <td>NaN</td>\n",
       "      <td>0</td>\n",
       "      <td>0</td>\n",
       "      <td>2649</td>\n",
       "      <td>7.2250</td>\n",
       "      <td>NaN</td>\n",
       "      <td>C</td>\n",
       "    </tr>\n",
       "    <tr>\n",
       "      <th>26</th>\n",
       "      <td>27</td>\n",
       "      <td>0</td>\n",
       "      <td>3</td>\n",
       "      <td>Emir, Mr. Farred Chehab</td>\n",
       "      <td>male</td>\n",
       "      <td>NaN</td>\n",
       "      <td>0</td>\n",
       "      <td>0</td>\n",
       "      <td>2631</td>\n",
       "      <td>7.2250</td>\n",
       "      <td>NaN</td>\n",
       "      <td>C</td>\n",
       "    </tr>\n",
       "    <tr>\n",
       "      <th>28</th>\n",
       "      <td>29</td>\n",
       "      <td>1</td>\n",
       "      <td>3</td>\n",
       "      <td>O'Dwyer, Miss. Ellen \"Nellie\"</td>\n",
       "      <td>female</td>\n",
       "      <td>NaN</td>\n",
       "      <td>0</td>\n",
       "      <td>0</td>\n",
       "      <td>330959</td>\n",
       "      <td>7.8792</td>\n",
       "      <td>NaN</td>\n",
       "      <td>Q</td>\n",
       "    </tr>\n",
       "  </tbody>\n",
       "</table>\n",
       "</div>"
      ],
      "text/plain": [
       "    PassengerId  Survived  Pclass                           Name     Sex  Age  \\\n",
       "5             6         0       3               Moran, Mr. James    male  NaN   \n",
       "17           18         1       2   Williams, Mr. Charles Eugene    male  NaN   \n",
       "19           20         1       3        Masselmani, Mrs. Fatima  female  NaN   \n",
       "26           27         0       3        Emir, Mr. Farred Chehab    male  NaN   \n",
       "28           29         1       3  O'Dwyer, Miss. Ellen \"Nellie\"  female  NaN   \n",
       "\n",
       "    SibSp  Parch  Ticket     Fare Cabin Embarked  \n",
       "5       0      0  330877   8.4583   NaN        Q  \n",
       "17      0      0  244373  13.0000   NaN        S  \n",
       "19      0      0    2649   7.2250   NaN        C  \n",
       "26      0      0    2631   7.2250   NaN        C  \n",
       "28      0      0  330959   7.8792   NaN        Q  "
      ]
     },
     "execution_count": 4,
     "metadata": {},
     "output_type": "execute_result"
    }
   ],
   "source": [
    "train[train[\"Age\"].isnull()].head()"
   ]
  },
  {
   "cell_type": "code",
   "execution_count": 5,
   "id": "bf98fdf2",
   "metadata": {
    "execution": {
     "iopub.execute_input": "2023-12-23T08:48:31.733255Z",
     "iopub.status.busy": "2023-12-23T08:48:31.732831Z",
     "iopub.status.idle": "2023-12-23T08:48:31.744457Z",
     "shell.execute_reply": "2023-12-23T08:48:31.743220Z"
    },
    "papermill": {
     "duration": 0.020535,
     "end_time": "2023-12-23T08:48:31.746515",
     "exception": false,
     "start_time": "2023-12-23T08:48:31.725980",
     "status": "completed"
    },
    "tags": []
   },
   "outputs": [],
   "source": [
    "train_x=train.drop([\"PassengerId\",\"Survived\",\"Name\",\"Ticket\",\"Cabin\"],axis=1)\n",
    "train_y=train[\"Survived\"]"
   ]
  },
  {
   "cell_type": "code",
   "execution_count": 6,
   "id": "6b2b92bb",
   "metadata": {
    "execution": {
     "iopub.execute_input": "2023-12-23T08:48:31.760226Z",
     "iopub.status.busy": "2023-12-23T08:48:31.759805Z",
     "iopub.status.idle": "2023-12-23T08:48:31.774178Z",
     "shell.execute_reply": "2023-12-23T08:48:31.773108Z"
    },
    "papermill": {
     "duration": 0.024117,
     "end_time": "2023-12-23T08:48:31.776803",
     "exception": false,
     "start_time": "2023-12-23T08:48:31.752686",
     "status": "completed"
    },
    "tags": []
   },
   "outputs": [
    {
     "data": {
      "text/plain": [
       "168"
      ]
     },
     "execution_count": 6,
     "metadata": {},
     "output_type": "execute_result"
    }
   ],
   "source": [
    "train_x[train_x[\"Embarked\"]=='C'].count()[0]\n"
   ]
  },
  {
   "cell_type": "code",
   "execution_count": 7,
   "id": "e255e812",
   "metadata": {
    "execution": {
     "iopub.execute_input": "2023-12-23T08:48:31.790767Z",
     "iopub.status.busy": "2023-12-23T08:48:31.790402Z",
     "iopub.status.idle": "2023-12-23T08:48:31.800839Z",
     "shell.execute_reply": "2023-12-23T08:48:31.799719Z"
    },
    "papermill": {
     "duration": 0.01964,
     "end_time": "2023-12-23T08:48:31.802849",
     "exception": false,
     "start_time": "2023-12-23T08:48:31.783209",
     "status": "completed"
    },
    "tags": []
   },
   "outputs": [
    {
     "data": {
      "text/plain": [
       "93"
      ]
     },
     "execution_count": 7,
     "metadata": {},
     "output_type": "execute_result"
    }
   ],
   "source": [
    "train[(train[\"Embarked\"] == 'C') & (train[\"Survived\"] == 1)].count()[0]\n",
    "#0.5535714285714286"
   ]
  },
  {
   "cell_type": "code",
   "execution_count": 8,
   "id": "21eaa1d2",
   "metadata": {
    "execution": {
     "iopub.execute_input": "2023-12-23T08:48:31.816797Z",
     "iopub.status.busy": "2023-12-23T08:48:31.816470Z",
     "iopub.status.idle": "2023-12-23T08:48:31.822919Z",
     "shell.execute_reply": "2023-12-23T08:48:31.821607Z"
    },
    "papermill": {
     "duration": 0.015606,
     "end_time": "2023-12-23T08:48:31.824730",
     "exception": false,
     "start_time": "2023-12-23T08:48:31.809124",
     "status": "completed"
    },
    "tags": []
   },
   "outputs": [
    {
     "data": {
      "text/plain": [
       "0.5535714285714286"
      ]
     },
     "execution_count": 8,
     "metadata": {},
     "output_type": "execute_result"
    }
   ],
   "source": [
    "93/168"
   ]
  },
  {
   "cell_type": "code",
   "execution_count": 9,
   "id": "15eacee6",
   "metadata": {
    "execution": {
     "iopub.execute_input": "2023-12-23T08:48:31.839148Z",
     "iopub.status.busy": "2023-12-23T08:48:31.838455Z",
     "iopub.status.idle": "2023-12-23T08:48:31.846918Z",
     "shell.execute_reply": "2023-12-23T08:48:31.846029Z"
    },
    "papermill": {
     "duration": 0.017668,
     "end_time": "2023-12-23T08:48:31.848514",
     "exception": false,
     "start_time": "2023-12-23T08:48:31.830846",
     "status": "completed"
    },
    "tags": []
   },
   "outputs": [
    {
     "data": {
      "text/plain": [
       "77"
      ]
     },
     "execution_count": 9,
     "metadata": {},
     "output_type": "execute_result"
    }
   ],
   "source": [
    "train_x[train_x[\"Embarked\"]=='Q'].count()[0]\n"
   ]
  },
  {
   "cell_type": "code",
   "execution_count": 10,
   "id": "e17a72b9",
   "metadata": {
    "execution": {
     "iopub.execute_input": "2023-12-23T08:48:31.861729Z",
     "iopub.status.busy": "2023-12-23T08:48:31.861449Z",
     "iopub.status.idle": "2023-12-23T08:48:31.869466Z",
     "shell.execute_reply": "2023-12-23T08:48:31.868820Z"
    },
    "papermill": {
     "duration": 0.016366,
     "end_time": "2023-12-23T08:48:31.870922",
     "exception": false,
     "start_time": "2023-12-23T08:48:31.854556",
     "status": "completed"
    },
    "tags": []
   },
   "outputs": [
    {
     "data": {
      "text/plain": [
       "30"
      ]
     },
     "execution_count": 10,
     "metadata": {},
     "output_type": "execute_result"
    }
   ],
   "source": [
    "train[(train[\"Embarked\"] == 'Q') & (train[\"Survived\"] == 1)].count()[0]\n",
    "#0.38961038961038963"
   ]
  },
  {
   "cell_type": "code",
   "execution_count": 11,
   "id": "f7216000",
   "metadata": {
    "execution": {
     "iopub.execute_input": "2023-12-23T08:48:31.884630Z",
     "iopub.status.busy": "2023-12-23T08:48:31.884302Z",
     "iopub.status.idle": "2023-12-23T08:48:31.889729Z",
     "shell.execute_reply": "2023-12-23T08:48:31.888942Z"
    },
    "papermill": {
     "duration": 0.014154,
     "end_time": "2023-12-23T08:48:31.891316",
     "exception": false,
     "start_time": "2023-12-23T08:48:31.877162",
     "status": "completed"
    },
    "tags": []
   },
   "outputs": [
    {
     "data": {
      "text/plain": [
       "0.38961038961038963"
      ]
     },
     "execution_count": 11,
     "metadata": {},
     "output_type": "execute_result"
    }
   ],
   "source": [
    "30/77"
   ]
  },
  {
   "cell_type": "code",
   "execution_count": 12,
   "id": "72813152",
   "metadata": {
    "execution": {
     "iopub.execute_input": "2023-12-23T08:48:31.904753Z",
     "iopub.status.busy": "2023-12-23T08:48:31.904487Z",
     "iopub.status.idle": "2023-12-23T08:48:31.912581Z",
     "shell.execute_reply": "2023-12-23T08:48:31.911745Z"
    },
    "papermill": {
     "duration": 0.016939,
     "end_time": "2023-12-23T08:48:31.914337",
     "exception": false,
     "start_time": "2023-12-23T08:48:31.897398",
     "status": "completed"
    },
    "tags": []
   },
   "outputs": [
    {
     "data": {
      "text/plain": [
       "644"
      ]
     },
     "execution_count": 12,
     "metadata": {},
     "output_type": "execute_result"
    }
   ],
   "source": [
    "train_x[train_x[\"Embarked\"]=='S'].count()[0]"
   ]
  },
  {
   "cell_type": "code",
   "execution_count": 13,
   "id": "d10f3553",
   "metadata": {
    "execution": {
     "iopub.execute_input": "2023-12-23T08:48:31.929653Z",
     "iopub.status.busy": "2023-12-23T08:48:31.928984Z",
     "iopub.status.idle": "2023-12-23T08:48:31.938692Z",
     "shell.execute_reply": "2023-12-23T08:48:31.937831Z"
    },
    "papermill": {
     "duration": 0.019225,
     "end_time": "2023-12-23T08:48:31.940479",
     "exception": false,
     "start_time": "2023-12-23T08:48:31.921254",
     "status": "completed"
    },
    "tags": []
   },
   "outputs": [
    {
     "data": {
      "text/plain": [
       "217"
      ]
     },
     "execution_count": 13,
     "metadata": {},
     "output_type": "execute_result"
    }
   ],
   "source": [
    "train[(train[\"Embarked\"] == 'S') & (train[\"Survived\"] == 1)].count()[0]\n",
    "#0.33695652173913043"
   ]
  },
  {
   "cell_type": "code",
   "execution_count": 14,
   "id": "82878418",
   "metadata": {
    "execution": {
     "iopub.execute_input": "2023-12-23T08:48:31.955242Z",
     "iopub.status.busy": "2023-12-23T08:48:31.954848Z",
     "iopub.status.idle": "2023-12-23T08:48:31.961451Z",
     "shell.execute_reply": "2023-12-23T08:48:31.960279Z"
    },
    "papermill": {
     "duration": 0.016821,
     "end_time": "2023-12-23T08:48:31.963979",
     "exception": false,
     "start_time": "2023-12-23T08:48:31.947158",
     "status": "completed"
    },
    "tags": []
   },
   "outputs": [
    {
     "data": {
      "text/plain": [
       "0.33695652173913043"
      ]
     },
     "execution_count": 14,
     "metadata": {},
     "output_type": "execute_result"
    }
   ],
   "source": [
    "217/644"
   ]
  },
  {
   "cell_type": "code",
   "execution_count": null,
   "id": "27881d15",
   "metadata": {
    "execution": {
     "iopub.execute_input": "2023-12-23T08:47:48.534267Z",
     "iopub.status.busy": "2023-12-23T08:47:48.533802Z",
     "iopub.status.idle": "2023-12-23T08:47:48.543167Z",
     "shell.execute_reply": "2023-12-23T08:47:48.542068Z",
     "shell.execute_reply.started": "2023-12-23T08:47:48.534218Z"
    },
    "papermill": {
     "duration": 0.00624,
     "end_time": "2023-12-23T08:48:31.977240",
     "exception": false,
     "start_time": "2023-12-23T08:48:31.971000",
     "status": "completed"
    },
    "tags": []
   },
   "outputs": [],
   "source": []
  },
  {
   "cell_type": "code",
   "execution_count": 15,
   "id": "d5b09218",
   "metadata": {
    "execution": {
     "iopub.execute_input": "2023-12-23T08:48:31.991762Z",
     "iopub.status.busy": "2023-12-23T08:48:31.991411Z",
     "iopub.status.idle": "2023-12-23T08:48:31.997610Z",
     "shell.execute_reply": "2023-12-23T08:48:31.996480Z"
    },
    "papermill": {
     "duration": 0.015803,
     "end_time": "2023-12-23T08:48:31.999428",
     "exception": false,
     "start_time": "2023-12-23T08:48:31.983625",
     "status": "completed"
    },
    "tags": []
   },
   "outputs": [],
   "source": [
    "train_x[\"Embarked\"]=train_x[\"Embarked\"].fillna(\"C\")"
   ]
  },
  {
   "cell_type": "code",
   "execution_count": 16,
   "id": "778d1fd0",
   "metadata": {
    "execution": {
     "iopub.execute_input": "2023-12-23T08:48:32.014438Z",
     "iopub.status.busy": "2023-12-23T08:48:32.014042Z",
     "iopub.status.idle": "2023-12-23T08:48:32.025714Z",
     "shell.execute_reply": "2023-12-23T08:48:32.024690Z"
    },
    "papermill": {
     "duration": 0.021573,
     "end_time": "2023-12-23T08:48:32.027678",
     "exception": false,
     "start_time": "2023-12-23T08:48:32.006105",
     "status": "completed"
    },
    "tags": []
   },
   "outputs": [],
   "source": [
    "train_x['Sex'] =train_x['Sex'].replace({'male': 0, 'female': 1})\n",
    "train_x['Embarked'] =train_x['Embarked'].replace({'S': 0, 'C': 1,'Q':2})\n",
    "train_x[\"Age\"]=train_x[\"Age\"].fillna(train_x[\"Age\"].median())"
   ]
  },
  {
   "cell_type": "code",
   "execution_count": 17,
   "id": "cdd15d9a",
   "metadata": {
    "execution": {
     "iopub.execute_input": "2023-12-23T08:48:32.043802Z",
     "iopub.status.busy": "2023-12-23T08:48:32.043474Z",
     "iopub.status.idle": "2023-12-23T08:48:32.062682Z",
     "shell.execute_reply": "2023-12-23T08:48:32.061967Z"
    },
    "papermill": {
     "duration": 0.029975,
     "end_time": "2023-12-23T08:48:32.064749",
     "exception": false,
     "start_time": "2023-12-23T08:48:32.034774",
     "status": "completed"
    },
    "tags": []
   },
   "outputs": [
    {
     "name": "stdout",
     "output_type": "stream",
     "text": [
      "<class 'pandas.core.frame.DataFrame'>\n",
      "RangeIndex: 891 entries, 0 to 890\n",
      "Data columns (total 7 columns):\n",
      " #   Column    Non-Null Count  Dtype  \n",
      "---  ------    --------------  -----  \n",
      " 0   Pclass    891 non-null    int64  \n",
      " 1   Sex       891 non-null    int64  \n",
      " 2   Age       891 non-null    float64\n",
      " 3   SibSp     891 non-null    int64  \n",
      " 4   Parch     891 non-null    int64  \n",
      " 5   Fare      891 non-null    float64\n",
      " 6   Embarked  891 non-null    int64  \n",
      "dtypes: float64(2), int64(5)\n",
      "memory usage: 48.9 KB\n"
     ]
    }
   ],
   "source": [
    "train_x.info()"
   ]
  },
  {
   "cell_type": "code",
   "execution_count": 18,
   "id": "83f2aab6",
   "metadata": {
    "execution": {
     "iopub.execute_input": "2023-12-23T08:48:32.080538Z",
     "iopub.status.busy": "2023-12-23T08:48:32.080217Z",
     "iopub.status.idle": "2023-12-23T08:48:33.770471Z",
     "shell.execute_reply": "2023-12-23T08:48:33.769359Z"
    },
    "papermill": {
     "duration": 1.700515,
     "end_time": "2023-12-23T08:48:33.772454",
     "exception": false,
     "start_time": "2023-12-23T08:48:32.071939",
     "status": "completed"
    },
    "tags": []
   },
   "outputs": [
    {
     "data": {
      "text/html": [
       "<style>#sk-container-id-1 {color: black;background-color: white;}#sk-container-id-1 pre{padding: 0;}#sk-container-id-1 div.sk-toggleable {background-color: white;}#sk-container-id-1 label.sk-toggleable__label {cursor: pointer;display: block;width: 100%;margin-bottom: 0;padding: 0.3em;box-sizing: border-box;text-align: center;}#sk-container-id-1 label.sk-toggleable__label-arrow:before {content: \"▸\";float: left;margin-right: 0.25em;color: #696969;}#sk-container-id-1 label.sk-toggleable__label-arrow:hover:before {color: black;}#sk-container-id-1 div.sk-estimator:hover label.sk-toggleable__label-arrow:before {color: black;}#sk-container-id-1 div.sk-toggleable__content {max-height: 0;max-width: 0;overflow: hidden;text-align: left;background-color: #f0f8ff;}#sk-container-id-1 div.sk-toggleable__content pre {margin: 0.2em;color: black;border-radius: 0.25em;background-color: #f0f8ff;}#sk-container-id-1 input.sk-toggleable__control:checked~div.sk-toggleable__content {max-height: 200px;max-width: 100%;overflow: auto;}#sk-container-id-1 input.sk-toggleable__control:checked~label.sk-toggleable__label-arrow:before {content: \"▾\";}#sk-container-id-1 div.sk-estimator input.sk-toggleable__control:checked~label.sk-toggleable__label {background-color: #d4ebff;}#sk-container-id-1 div.sk-label input.sk-toggleable__control:checked~label.sk-toggleable__label {background-color: #d4ebff;}#sk-container-id-1 input.sk-hidden--visually {border: 0;clip: rect(1px 1px 1px 1px);clip: rect(1px, 1px, 1px, 1px);height: 1px;margin: -1px;overflow: hidden;padding: 0;position: absolute;width: 1px;}#sk-container-id-1 div.sk-estimator {font-family: monospace;background-color: #f0f8ff;border: 1px dotted black;border-radius: 0.25em;box-sizing: border-box;margin-bottom: 0.5em;}#sk-container-id-1 div.sk-estimator:hover {background-color: #d4ebff;}#sk-container-id-1 div.sk-parallel-item::after {content: \"\";width: 100%;border-bottom: 1px solid gray;flex-grow: 1;}#sk-container-id-1 div.sk-label:hover label.sk-toggleable__label {background-color: #d4ebff;}#sk-container-id-1 div.sk-serial::before {content: \"\";position: absolute;border-left: 1px solid gray;box-sizing: border-box;top: 0;bottom: 0;left: 50%;z-index: 0;}#sk-container-id-1 div.sk-serial {display: flex;flex-direction: column;align-items: center;background-color: white;padding-right: 0.2em;padding-left: 0.2em;position: relative;}#sk-container-id-1 div.sk-item {position: relative;z-index: 1;}#sk-container-id-1 div.sk-parallel {display: flex;align-items: stretch;justify-content: center;background-color: white;position: relative;}#sk-container-id-1 div.sk-item::before, #sk-container-id-1 div.sk-parallel-item::before {content: \"\";position: absolute;border-left: 1px solid gray;box-sizing: border-box;top: 0;bottom: 0;left: 50%;z-index: -1;}#sk-container-id-1 div.sk-parallel-item {display: flex;flex-direction: column;z-index: 1;position: relative;background-color: white;}#sk-container-id-1 div.sk-parallel-item:first-child::after {align-self: flex-end;width: 50%;}#sk-container-id-1 div.sk-parallel-item:last-child::after {align-self: flex-start;width: 50%;}#sk-container-id-1 div.sk-parallel-item:only-child::after {width: 0;}#sk-container-id-1 div.sk-dashed-wrapped {border: 1px dashed gray;margin: 0 0.4em 0.5em 0.4em;box-sizing: border-box;padding-bottom: 0.4em;background-color: white;}#sk-container-id-1 div.sk-label label {font-family: monospace;font-weight: bold;display: inline-block;line-height: 1.2em;}#sk-container-id-1 div.sk-label-container {text-align: center;}#sk-container-id-1 div.sk-container {/* jupyter's `normalize.less` sets `[hidden] { display: none; }` but bootstrap.min.css set `[hidden] { display: none !important; }` so we also need the `!important` here to be able to override the default hidden behavior on the sphinx rendered scikit-learn.org. See: https://github.com/scikit-learn/scikit-learn/issues/21755 */display: inline-block !important;position: relative;}#sk-container-id-1 div.sk-text-repr-fallback {display: none;}</style><div id=\"sk-container-id-1\" class=\"sk-top-container\"><div class=\"sk-text-repr-fallback\"><pre>RandomForestClassifier(max_depth=5, random_state=17)</pre><b>In a Jupyter environment, please rerun this cell to show the HTML representation or trust the notebook. <br />On GitHub, the HTML representation is unable to render, please try loading this page with nbviewer.org.</b></div><div class=\"sk-container\" hidden><div class=\"sk-item\"><div class=\"sk-estimator sk-toggleable\"><input class=\"sk-toggleable__control sk-hidden--visually\" id=\"sk-estimator-id-1\" type=\"checkbox\" checked><label for=\"sk-estimator-id-1\" class=\"sk-toggleable__label sk-toggleable__label-arrow\">RandomForestClassifier</label><div class=\"sk-toggleable__content\"><pre>RandomForestClassifier(max_depth=5, random_state=17)</pre></div></div></div></div></div>"
      ],
      "text/plain": [
       "RandomForestClassifier(max_depth=5, random_state=17)"
      ]
     },
     "execution_count": 18,
     "metadata": {},
     "output_type": "execute_result"
    }
   ],
   "source": [
    "from sklearn.ensemble import RandomForestClassifier\n",
    "rf=RandomForestClassifier(n_estimators=100,max_depth=5,random_state=17)\n",
    "rf.fit(train_x,train_y)"
   ]
  },
  {
   "cell_type": "code",
   "execution_count": 19,
   "id": "0c8c0c41",
   "metadata": {
    "execution": {
     "iopub.execute_input": "2023-12-23T08:48:33.788668Z",
     "iopub.status.busy": "2023-12-23T08:48:33.787705Z",
     "iopub.status.idle": "2023-12-23T08:48:34.545091Z",
     "shell.execute_reply": "2023-12-23T08:48:34.543620Z"
    },
    "papermill": {
     "duration": 0.767787,
     "end_time": "2023-12-23T08:48:34.547435",
     "exception": false,
     "start_time": "2023-12-23T08:48:33.779648",
     "status": "completed"
    },
    "tags": []
   },
   "outputs": [
    {
     "name": "stdout",
     "output_type": "stream",
     "text": [
      "CV accuracy score: 83.05%\n"
     ]
    }
   ],
   "source": [
    "from sklearn.metrics import accuracy_score\n",
    "from sklearn.model_selection import (GridSearchCV, StratifiedKFold,\n",
    "                                     cross_val_score)\n",
    "skf = StratifiedKFold(n_splits=5, shuffle=True, random_state=17)\n",
    "\n",
    "results = cross_val_score(rf, train_x, train_y, cv=skf)\n",
    "print(\"CV accuracy score: {:.2f}%\".format(results.mean() * 100))"
   ]
  },
  {
   "cell_type": "code",
   "execution_count": 20,
   "id": "85cb40e3",
   "metadata": {
    "execution": {
     "iopub.execute_input": "2023-12-23T08:48:34.563317Z",
     "iopub.status.busy": "2023-12-23T08:48:34.562974Z",
     "iopub.status.idle": "2023-12-23T08:48:34.572962Z",
     "shell.execute_reply": "2023-12-23T08:48:34.571743Z"
    },
    "papermill": {
     "duration": 0.019711,
     "end_time": "2023-12-23T08:48:34.574878",
     "exception": false,
     "start_time": "2023-12-23T08:48:34.555167",
     "status": "completed"
    },
    "tags": []
   },
   "outputs": [],
   "source": [
    "x_test=test.drop([\"Name\",\"PassengerId\",\"Ticket\",\"Cabin\"],axis=1)\n",
    "x_test[\"Sex\"]=x_test[\"Sex\"].replace({\"male\":0,\"female\":1})\n",
    "x_test['Embarked'] =x_test['Embarked'].replace({'S': 0, 'C': 1,'Q':2})\n",
    "x_test[\"Age\"]=x_test[\"Age\"].fillna(x_test[\"Age\"].median())"
   ]
  },
  {
   "cell_type": "code",
   "execution_count": 21,
   "id": "f427a6d2",
   "metadata": {
    "execution": {
     "iopub.execute_input": "2023-12-23T08:48:34.591865Z",
     "iopub.status.busy": "2023-12-23T08:48:34.591502Z",
     "iopub.status.idle": "2023-12-23T08:48:34.603324Z",
     "shell.execute_reply": "2023-12-23T08:48:34.601962Z"
    },
    "papermill": {
     "duration": 0.023597,
     "end_time": "2023-12-23T08:48:34.605983",
     "exception": false,
     "start_time": "2023-12-23T08:48:34.582386",
     "status": "completed"
    },
    "tags": []
   },
   "outputs": [
    {
     "name": "stdout",
     "output_type": "stream",
     "text": [
      "<class 'pandas.core.frame.DataFrame'>\n",
      "RangeIndex: 418 entries, 0 to 417\n",
      "Data columns (total 7 columns):\n",
      " #   Column    Non-Null Count  Dtype  \n",
      "---  ------    --------------  -----  \n",
      " 0   Pclass    418 non-null    int64  \n",
      " 1   Sex       418 non-null    int64  \n",
      " 2   Age       418 non-null    float64\n",
      " 3   SibSp     418 non-null    int64  \n",
      " 4   Parch     418 non-null    int64  \n",
      " 5   Fare      417 non-null    float64\n",
      " 6   Embarked  418 non-null    int64  \n",
      "dtypes: float64(2), int64(5)\n",
      "memory usage: 23.0 KB\n"
     ]
    }
   ],
   "source": [
    "x_test.info()"
   ]
  },
  {
   "cell_type": "code",
   "execution_count": 22,
   "id": "56bc4b54",
   "metadata": {
    "execution": {
     "iopub.execute_input": "2023-12-23T08:48:34.626818Z",
     "iopub.status.busy": "2023-12-23T08:48:34.626179Z",
     "iopub.status.idle": "2023-12-23T08:48:34.638072Z",
     "shell.execute_reply": "2023-12-23T08:48:34.637155Z"
    },
    "papermill": {
     "duration": 0.023799,
     "end_time": "2023-12-23T08:48:34.640513",
     "exception": false,
     "start_time": "2023-12-23T08:48:34.616714",
     "status": "completed"
    },
    "tags": []
   },
   "outputs": [
    {
     "data": {
      "text/html": [
       "<div>\n",
       "<style scoped>\n",
       "    .dataframe tbody tr th:only-of-type {\n",
       "        vertical-align: middle;\n",
       "    }\n",
       "\n",
       "    .dataframe tbody tr th {\n",
       "        vertical-align: top;\n",
       "    }\n",
       "\n",
       "    .dataframe thead th {\n",
       "        text-align: right;\n",
       "    }\n",
       "</style>\n",
       "<table border=\"1\" class=\"dataframe\">\n",
       "  <thead>\n",
       "    <tr style=\"text-align: right;\">\n",
       "      <th></th>\n",
       "      <th>Pclass</th>\n",
       "      <th>Sex</th>\n",
       "      <th>Age</th>\n",
       "      <th>SibSp</th>\n",
       "      <th>Parch</th>\n",
       "      <th>Fare</th>\n",
       "      <th>Embarked</th>\n",
       "    </tr>\n",
       "  </thead>\n",
       "  <tbody>\n",
       "    <tr>\n",
       "      <th>152</th>\n",
       "      <td>3</td>\n",
       "      <td>0</td>\n",
       "      <td>60.5</td>\n",
       "      <td>0</td>\n",
       "      <td>0</td>\n",
       "      <td>NaN</td>\n",
       "      <td>0</td>\n",
       "    </tr>\n",
       "  </tbody>\n",
       "</table>\n",
       "</div>"
      ],
      "text/plain": [
       "     Pclass  Sex   Age  SibSp  Parch  Fare  Embarked\n",
       "152       3    0  60.5      0      0   NaN         0"
      ]
     },
     "execution_count": 22,
     "metadata": {},
     "output_type": "execute_result"
    }
   ],
   "source": [
    "x_test[x_test[\"Fare\"].isnull()].head()"
   ]
  },
  {
   "cell_type": "code",
   "execution_count": 23,
   "id": "abed1ed8",
   "metadata": {
    "execution": {
     "iopub.execute_input": "2023-12-23T08:48:34.661193Z",
     "iopub.status.busy": "2023-12-23T08:48:34.660476Z",
     "iopub.status.idle": "2023-12-23T08:48:34.666285Z",
     "shell.execute_reply": "2023-12-23T08:48:34.665480Z"
    },
    "papermill": {
     "duration": 0.018223,
     "end_time": "2023-12-23T08:48:34.668417",
     "exception": false,
     "start_time": "2023-12-23T08:48:34.650194",
     "status": "completed"
    },
    "tags": []
   },
   "outputs": [],
   "source": [
    "x_test[\"Fare\"]=x_test[\"Fare\"].fillna(7.8792)"
   ]
  },
  {
   "cell_type": "code",
   "execution_count": 24,
   "id": "9cc23b2f",
   "metadata": {
    "execution": {
     "iopub.execute_input": "2023-12-23T08:48:34.686768Z",
     "iopub.status.busy": "2023-12-23T08:48:34.686152Z",
     "iopub.status.idle": "2023-12-23T08:48:34.696712Z",
     "shell.execute_reply": "2023-12-23T08:48:34.695979Z"
    },
    "papermill": {
     "duration": 0.022342,
     "end_time": "2023-12-23T08:48:34.698644",
     "exception": false,
     "start_time": "2023-12-23T08:48:34.676302",
     "status": "completed"
    },
    "tags": []
   },
   "outputs": [
    {
     "name": "stdout",
     "output_type": "stream",
     "text": [
      "<class 'pandas.core.frame.DataFrame'>\n",
      "RangeIndex: 418 entries, 0 to 417\n",
      "Data columns (total 7 columns):\n",
      " #   Column    Non-Null Count  Dtype  \n",
      "---  ------    --------------  -----  \n",
      " 0   Pclass    418 non-null    int64  \n",
      " 1   Sex       418 non-null    int64  \n",
      " 2   Age       418 non-null    float64\n",
      " 3   SibSp     418 non-null    int64  \n",
      " 4   Parch     418 non-null    int64  \n",
      " 5   Fare      418 non-null    float64\n",
      " 6   Embarked  418 non-null    int64  \n",
      "dtypes: float64(2), int64(5)\n",
      "memory usage: 23.0 KB\n"
     ]
    }
   ],
   "source": [
    "x_test.info()"
   ]
  },
  {
   "cell_type": "code",
   "execution_count": 25,
   "id": "e3df42a4",
   "metadata": {
    "execution": {
     "iopub.execute_input": "2023-12-23T08:48:34.716714Z",
     "iopub.status.busy": "2023-12-23T08:48:34.715847Z",
     "iopub.status.idle": "2023-12-23T08:48:34.736986Z",
     "shell.execute_reply": "2023-12-23T08:48:34.736269Z"
    },
    "papermill": {
     "duration": 0.032111,
     "end_time": "2023-12-23T08:48:34.739127",
     "exception": false,
     "start_time": "2023-12-23T08:48:34.707016",
     "status": "completed"
    },
    "tags": []
   },
   "outputs": [
    {
     "name": "stdout",
     "output_type": "stream",
     "text": [
      "Your submission was successfully saved!\n"
     ]
    }
   ],
   "source": [
    "predictions=rf.predict(x_test)\n",
    "output = pd.DataFrame({'PassengerId': test.PassengerId, 'Survived': predictions})\n",
    "output.to_csv('submission.csv', index=False)\n",
    "print(\"Your submission was successfully saved!\")"
   ]
  }
 ],
 "metadata": {
  "kaggle": {
   "accelerator": "none",
   "dataSources": [
    {
     "databundleVersionId": 26502,
     "sourceId": 3136,
     "sourceType": "competition"
    }
   ],
   "dockerImageVersionId": 30626,
   "isGpuEnabled": false,
   "isInternetEnabled": true,
   "language": "python",
   "sourceType": "notebook"
  },
  "kernelspec": {
   "display_name": "Python 3",
   "language": "python",
   "name": "python3"
  },
  "language_info": {
   "codemirror_mode": {
    "name": "ipython",
    "version": 3
   },
   "file_extension": ".py",
   "mimetype": "text/x-python",
   "name": "python",
   "nbconvert_exporter": "python",
   "pygments_lexer": "ipython3",
   "version": "3.10.12"
  },
  "papermill": {
   "default_parameters": {},
   "duration": 8.007307,
   "end_time": "2023-12-23T08:48:35.272114",
   "environment_variables": {},
   "exception": null,
   "input_path": "__notebook__.ipynb",
   "output_path": "__notebook__.ipynb",
   "parameters": {},
   "start_time": "2023-12-23T08:48:27.264807",
   "version": "2.4.0"
  }
 },
 "nbformat": 4,
 "nbformat_minor": 5
}
